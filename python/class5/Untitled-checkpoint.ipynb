{
 "cells": [
  {
   "cell_type": "code",
   "execution_count": 1,
   "id": "0e7c3371",
   "metadata": {},
   "outputs": [
    {
     "name": "stdout",
     "output_type": "stream",
     "text": [
      "True\n",
      "True\n",
      "True\n",
      "True\n",
      "True\n"
     ]
    }
   ],
   "source": [
    "str=\"102030abc\"\n",
    "l=[10,20,30,40,'a','b','c']\n",
    "t=(10,20,30,40,'a','b','c')\n",
    "s={10,20,30,40,'a','b','c'}\n",
    "b= bytes([10,20,30])\n",
    "ba=bytearray([10,20,30])\n",
    "r=range(11)\n",
    "print(10 in l)\n",
    "print(10 in t)\n",
    "print(10 in s)\n",
    "print(10 in b)\n",
    "print(10 in ba)"
   ]
  },
  {
   "cell_type": "code",
   "execution_count": null,
   "id": "79c3dc59",
   "metadata": {},
   "outputs": [],
   "source": []
  }
 ],
 "metadata": {
  "kernelspec": {
   "display_name": "Python 3",
   "language": "python",
   "name": "python3"
  },
  "language_info": {
   "codemirror_mode": {
    "name": "ipython",
    "version": 3
   },
   "file_extension": ".py",
   "mimetype": "text/x-python",
   "name": "python",
   "nbconvert_exporter": "python",
   "pygments_lexer": "ipython3",
   "version": "3.11.3"
  }
 },
 "nbformat": 4,
 "nbformat_minor": 5
}
