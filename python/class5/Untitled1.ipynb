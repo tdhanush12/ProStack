{
 "cells": [
  {
   "cell_type": "code",
   "execution_count": null,
   "id": "3ed82f8b",
   "metadata": {},
   "outputs": [],
   "source": [
    "a=10\n",
    "b=20.5\n",
    "c=30\n",
    "print(a*b)\n",
    "print(b*c)"
   ]
  },
  {
   "cell_type": "code",
   "execution_count": null,
   "id": "a35d390d",
   "metadata": {},
   "outputs": [],
   "source": []
  }
 ],
 "metadata": {
  "kernelspec": {
   "display_name": "Python 3 (ipykernel)",
   "language": "python",
   "name": "python3"
  }
 },
 "nbformat": 4,
 "nbformat_minor": 5
}
